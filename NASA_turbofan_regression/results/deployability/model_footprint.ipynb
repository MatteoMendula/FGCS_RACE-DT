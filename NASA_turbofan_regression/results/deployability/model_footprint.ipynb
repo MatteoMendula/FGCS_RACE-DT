{
 "cells": [
  {
   "cell_type": "code",
   "execution_count": 32,
   "id": "12fa310b",
   "metadata": {},
   "outputs": [],
   "source": [
    "import pandas as pd"
   ]
  },
  {
   "cell_type": "markdown",
   "id": "f467d9f8",
   "metadata": {},
   "source": [
    "## LSTM gpu "
   ]
  },
  {
   "cell_type": "code",
   "execution_count": 33,
   "id": "0f3ed688",
   "metadata": {},
   "outputs": [],
   "source": [
    "\n",
    "df_time_lstm_gpu_S1 = pd.read_csv(\"./red_ai/gpu/lstm_pytorch_model_performance_FD001.csv\", index_col=False)\n",
    "df_time_lstm_gpu_S2 = pd.read_csv(\"./red_ai/gpu/lstm_pytorch_model_performance_FD002.csv\", index_col=False)\n",
    "df_time_lstm_gpu_S3 = pd.read_csv(\"./red_ai/gpu/lstm_pytorch_model_performance_FD003.csv\", index_col=False)\n",
    "df_time_lstm_gpu_S4 = pd.read_csv(\"./red_ai/gpu/lstm_pytorch_model_performance_FD004.csv\", index_col=False)"
   ]
  },
  {
   "cell_type": "code",
   "execution_count": 34,
   "id": "bd92f9d6",
   "metadata": {},
   "outputs": [],
   "source": [
    "# Model Size (bytes)\n",
    "lstm_S1 = int(df_time_lstm_gpu_S1[\"Model Size (bytes)\"].iloc[0])\n",
    "lstm_S2 = int(df_time_lstm_gpu_S2[\"Model Size (bytes)\"].iloc[0])\n",
    "lstm_S3 = int(df_time_lstm_gpu_S3[\"Model Size (bytes)\"].iloc[0])\n",
    "lstm_S4 = int(df_time_lstm_gpu_S4[\"Model Size (bytes)\"].iloc[0])\n"
   ]
  },
  {
   "cell_type": "markdown",
   "id": "8fc8acba",
   "metadata": {},
   "source": [
    "## ECAE "
   ]
  },
  {
   "cell_type": "code",
   "execution_count": 35,
   "id": "33f7dfe7",
   "metadata": {},
   "outputs": [],
   "source": [
    "df_time_ecae_S1_1layers = pd.read_csv(\"./time_only/NASA_results_val_selected_hps_FD001/cae_pytorch_rc_mlp_aggregated_prediction_val_split_withMAC/1_rc_layers/FD001_cae_pytorch_rc_pred_results_val_split.csv\", index_col=False)\n",
    "df_time_ecae_S1_2layers = pd.read_csv(\"./time_only/NASA_results_val_selected_hps_FD001/cae_pytorch_rc_mlp_aggregated_prediction_val_split_withMAC/2_rc_layers/FD001_cae_pytorch_rc_pred_results_val_split.csv\", index_col=False)\n",
    "df_time_ecae_S2_1layers = pd.read_csv(\"./time_only/NASA_results_val_selected_hps_FD002/cae_pytorch_rc_mlp_aggregated_prediction_val_split_withMAC/1_rc_layers/FD002_cae_pytorch_rc_pred_results_val_split.csv\", index_col=False)\n",
    "df_time_ecae_S2_2layers = pd.read_csv(\"./time_only/NASA_results_val_selected_hps_FD002/cae_pytorch_rc_mlp_aggregated_prediction_val_split_withMAC/2_rc_layers/FD002_cae_pytorch_rc_pred_results_val_split.csv\", index_col=False)\n",
    "df_time_ecae_S3_1layers = pd.read_csv(\"./time_only/NASA_results_val_selected_hps_FD003/cae_pytorch_rc_mlp_aggregated_prediction_val_split_withMAC/1_rc_layers/FD003_cae_pytorch_rc_pred_results_val_split.csv\", index_col=False)\n",
    "df_time_ecae_S3_2layers = pd.read_csv(\"./time_only/NASA_results_val_selected_hps_FD003/cae_pytorch_rc_mlp_aggregated_prediction_val_split_withMAC/2_rc_layers/FD003_cae_pytorch_rc_pred_results_val_split.csv\", index_col=False)\n",
    "df_time_ecae_S4_1layers = pd.read_csv(\"./time_only/NASA_results_val_selected_hps_FD004/cae_pytorch_rc_mlp_aggregated_prediction_val_split_withMAC/1_rc_layers/FD004_cae_pytorch_rc_pred_results_val_split.csv\", index_col=False)\n",
    "df_time_ecae_S4_2layers = pd.read_csv(\"./time_only/NASA_results_val_selected_hps_FD004/cae_pytorch_rc_mlp_aggregated_prediction_val_split_withMAC/2_rc_layers/FD004_cae_pytorch_rc_pred_results_val_split.csv\", index_col=False)"
   ]
  },
  {
   "cell_type": "code",
   "execution_count": 36,
   "id": "e5d08b64",
   "metadata": {},
   "outputs": [],
   "source": [
    "ecae_layer1_S1 = int(df_time_ecae_S1_1layers[\"cae_model_file_size_bytes\"].iloc[0] + df_time_ecae_S1_1layers[\"final_mlp_model_file_size_bytes\"].iloc[0])\n",
    "ecae_layer2_S1 = int(df_time_ecae_S1_2layers[\"cae_model_file_size_bytes\"].iloc[0] + df_time_ecae_S1_2layers[\"final_mlp_model_file_size_bytes\"].iloc[0])\n",
    "ecae_layer1_S2 = int(df_time_ecae_S2_1layers[\"cae_model_file_size_bytes\"].iloc[0] + df_time_ecae_S2_1layers[\"final_mlp_model_file_size_bytes\"].iloc[0])\n",
    "ecae_layer2_S2 = int(df_time_ecae_S2_2layers[\"cae_model_file_size_bytes\"].iloc[0] + df_time_ecae_S2_2layers[\"final_mlp_model_file_size_bytes\"].iloc[0])\n",
    "ecae_layer1_S3 = int(df_time_ecae_S3_1layers[\"cae_model_file_size_bytes\"].iloc[0] + df_time_ecae_S3_1layers[\"final_mlp_model_file_size_bytes\"].iloc[0])\n",
    "ecae_layer2_S3 = int(df_time_ecae_S3_2layers[\"cae_model_file_size_bytes\"].iloc[0] + df_time_ecae_S3_2layers[\"final_mlp_model_file_size_bytes\"].iloc[0])\n",
    "ecae_layer1_S4 = int(df_time_ecae_S4_1layers[\"cae_model_file_size_bytes\"].iloc[0] + df_time_ecae_S4_1layers[\"final_mlp_model_file_size_bytes\"].iloc[0])\n",
    "ecae_layer2_S4 = int(df_time_ecae_S4_2layers[\"cae_model_file_size_bytes\"].iloc[0] + df_time_ecae_S4_2layers[\"final_mlp_model_file_size_bytes\"].iloc[0])\n",
    "\n",
    "# final_mlp_model_size_bytes"
   ]
  },
  {
   "cell_type": "markdown",
   "id": "ce57839e",
   "metadata": {},
   "source": [
    "## RACE step 1"
   ]
  },
  {
   "cell_type": "code",
   "execution_count": 37,
   "id": "b6716386",
   "metadata": {},
   "outputs": [],
   "source": [
    "df_time_race_S1_step2_layer1 = pd.read_csv(\"./time_only/NASA_results_val_selected_hps_FD001/race_free_mlp_aggregated_prediction_val_split_step2/1_layers/FD001_prediction_results_loadedHPs.csv\", index_col=False)\n",
    "df_time_race_S1_step2_layer2 = pd.read_csv(\"./time_only/NASA_results_val_selected_hps_FD001/race_free_mlp_aggregated_prediction_val_split_step2/2_layers/FD001_prediction_results_loadedHPs.csv\", index_col=False)\n",
    "\n",
    "df_time_race_S2_step2_layer1 = pd.read_csv(\"./time_only/NASA_results_val_selected_hps_FD002/race_free_mlp_aggregated_prediction_val_split_step2/1_layers/FD002_prediction_results_loadedHPs.csv\", index_col=False)\n",
    "df_time_race_S2_step2_layer2 = pd.read_csv(\"./time_only/NASA_results_val_selected_hps_FD002/race_free_mlp_aggregated_prediction_val_split_step2/2_layers/FD002_prediction_results_loadedHPs.csv\", index_col=False)\n",
    "\n",
    "df_time_race_S3_step2_layer1 = pd.read_csv(\"./time_only/NASA_results_val_selected_hps_FD003/race_free_mlp_aggregated_prediction_val_split_step2/1_layers/FD003_prediction_results_loadedHPs.csv\", index_col=False)\n",
    "df_time_race_S3_step2_layer2 = pd.read_csv(\"./time_only/NASA_results_val_selected_hps_FD003/race_free_mlp_aggregated_prediction_val_split_step2/2_layers/FD003_prediction_results_loadedHPs.csv\", index_col=False)\n",
    "\n",
    "df_time_race_S4_step2_layer1 = pd.read_csv(\"./time_only/NASA_results_val_selected_hps_FD004/race_free_mlp_aggregated_prediction_val_split_step2/1_layers/FD004_prediction_results_loadedHPs.csv\", index_col=False)\n",
    "df_time_race_S4_step2_layer2 = pd.read_csv(\"./time_only/NASA_results_val_selected_hps_FD004/race_free_mlp_aggregated_prediction_val_split_step2/2_layers/FD004_prediction_results_loadedHPs.csv\", index_col=False)"
   ]
  },
  {
   "cell_type": "code",
   "execution_count": 38,
   "id": "a06eee98",
   "metadata": {},
   "outputs": [],
   "source": [
    "race_layer1_S1 = int(df_time_race_S1_step2_layer1[\"final_mlp_model_size_bytes\"].iloc[0] )\n",
    "race_layer2_S1 = int(df_time_race_S1_step2_layer2[\"final_mlp_model_size_bytes\"].iloc[0] )\n",
    "race_layer1_S2 = int(df_time_race_S2_step2_layer1[\"final_mlp_model_size_bytes\"].iloc[0] )\n",
    "race_layer2_S2 = int(df_time_race_S2_step2_layer2[\"final_mlp_model_size_bytes\"].iloc[0] )\n",
    "race_layer1_S3 = int(df_time_race_S3_step2_layer1[\"final_mlp_model_size_bytes\"].iloc[0] )\n",
    "race_layer2_S3 = int(df_time_race_S3_step2_layer2[\"final_mlp_model_size_bytes\"].iloc[0] )\n",
    "race_layer1_S4 = int(df_time_race_S4_step2_layer1[\"final_mlp_model_size_bytes\"].iloc[0] )\n",
    "race_layer2_S4 = int(df_time_race_S4_step2_layer2[\"final_mlp_model_size_bytes\"].iloc[0] )\n",
    "\n",
    "# final_mlp_model_size_bytes"
   ]
  },
  {
   "cell_type": "code",
   "execution_count": 39,
   "id": "1e9ae2d0",
   "metadata": {},
   "outputs": [],
   "source": [
    "my_dict ={\n",
    "    \"S1\": {\n",
    "        \"DeepLSTM\": lstm_S1,\n",
    "        \"E-CAE RC 1 RC\": ecae_layer1_S1,\n",
    "        \"E-CAE RC 2 RC\": ecae_layer2_S1,\n",
    "        \"RACE-DT Hps Round 2 1 RC\": race_layer1_S1,\n",
    "        \"RACE-DT Hps Round 2 2 RC\": race_layer2_S1\n",
    "    },\n",
    "    \"S2\": {\n",
    "        \"DeepLSTM\": lstm_S2,\n",
    "        \"E-CAE RC 1 RC\": ecae_layer1_S2,\n",
    "        \"E-CAE RC 2 RC\": ecae_layer2_S2,\n",
    "        \"RACE-DT Hps Round 2 1 RC\": race_layer1_S2,\n",
    "        \"RACE-DT Hps Round 2 2 RC\": race_layer2_S2\n",
    "    },\n",
    "    \"S3\": {\n",
    "        \"DeepLSTM\": lstm_S3,\n",
    "        \"E-CAE RC 1 RC\": ecae_layer1_S3,\n",
    "        \"E-CAE RC 2 RC\": ecae_layer2_S3,\n",
    "        \"RACE-DT Hps Round 2 1 RC\": race_layer1_S3,\n",
    "        \"RACE-DT Hps Round 2 2 RC\": race_layer2_S3\n",
    "    },\n",
    "    \"S4\": {\n",
    "        \"DeepLSTM\": lstm_S4,\n",
    "        \"E-CAE RC 1 RC\": ecae_layer1_S4,\n",
    "        \"E-CAE RC 2 RC\": ecae_layer2_S4,\n",
    "        \"RACE-DT Hps Round 2 1 RC\": race_layer1_S4,\n",
    "        \"RACE-DT Hps Round 2 2 RC\": race_layer2_S4\n",
    "    },\n",
    "}"
   ]
  },
  {
   "cell_type": "code",
   "execution_count": 40,
   "id": "2d5dd8e0",
   "metadata": {},
   "outputs": [],
   "source": [
    "save_path = \"/home/matteo/Documents/postDoc/CTTC/FGCS/git_repo/DCASE_audio/results/fidelity/nasa_model_sizes.json\"\n",
    "import json\n",
    "with open(save_path, 'w') as f:\n",
    "    json.dump(my_dict, f, indent=4)"
   ]
  }
 ],
 "metadata": {
  "kernelspec": {
   "display_name": "eneaFL",
   "language": "python",
   "name": "python3"
  },
  "language_info": {
   "codemirror_mode": {
    "name": "ipython",
    "version": 3
   },
   "file_extension": ".py",
   "mimetype": "text/x-python",
   "name": "python",
   "nbconvert_exporter": "python",
   "pygments_lexer": "ipython3",
   "version": "3.11.3"
  }
 },
 "nbformat": 4,
 "nbformat_minor": 5
}
