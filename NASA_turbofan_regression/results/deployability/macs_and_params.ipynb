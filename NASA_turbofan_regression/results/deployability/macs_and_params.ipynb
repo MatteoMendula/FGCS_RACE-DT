{
 "cells": [
  {
   "cell_type": "code",
   "execution_count": 22,
   "id": "12fa310b",
   "metadata": {},
   "outputs": [],
   "source": [
    "import pandas as pd"
   ]
  },
  {
   "cell_type": "markdown",
   "id": "f467d9f8",
   "metadata": {},
   "source": [
    "## LSTM gpu "
   ]
  },
  {
   "cell_type": "code",
   "execution_count": 23,
   "id": "0f3ed688",
   "metadata": {},
   "outputs": [],
   "source": [
    "\n",
    "df_time_lstm_gpu_S1 = pd.read_csv(\"./red_ai/gpu/lstm_pytorch_model_performance_FD001.csv\", index_col=False)\n",
    "df_time_lstm_gpu_S2 = pd.read_csv(\"./red_ai/gpu/lstm_pytorch_model_performance_FD002.csv\", index_col=False)\n",
    "df_time_lstm_gpu_S3 = pd.read_csv(\"./red_ai/gpu/lstm_pytorch_model_performance_FD003.csv\", index_col=False)\n",
    "df_time_lstm_gpu_S4 = pd.read_csv(\"./red_ai/gpu/lstm_pytorch_model_performance_FD004.csv\", index_col=False)\n",
    "\n",
    "df_time_lstm_cpu_S1 = pd.read_csv(\"./red_ai/cpu/lstm_pytorch_model_performance_FD001.csv\", index_col=False)\n",
    "df_time_lstm_cpu_S2 = pd.read_csv(\"./red_ai/cpu/lstm_pytorch_model_performance_FD002.csv\", index_col=False)\n",
    "df_time_lstm_cpu_S3 = pd.read_csv(\"./red_ai/cpu/lstm_pytorch_model_performance_FD003.csv\", index_col=False)\n",
    "df_time_lstm_cpu_S4 = pd.read_csv(\"./red_ai/cpu/lstm_pytorch_model_performance_FD004.csv\", index_col=False)"
   ]
  },
  {
   "cell_type": "code",
   "execution_count": 24,
   "id": "bd92f9d6",
   "metadata": {},
   "outputs": [
    {
     "name": "stdout",
     "output_type": "stream",
     "text": [
      "FD001 MACS:  326208.0\n",
      "FD001 Params:  322433.0\n",
      "FD002 MACS:  318016.0\n",
      "FD002 Params:  314241.0\n",
      "FD003 MACS:  323136.0\n",
      "FD003 Params:  319361.0\n",
      "FD004 MACS:  318016.0\n",
      "FD004 Params:  314241.0\n"
     ]
    }
   ],
   "source": [
    "print(\"FD001 MACS: \", df_time_lstm_gpu_S1[\"MACs\"][0])\n",
    "print(\"FD001 Params: \", df_time_lstm_gpu_S1[\"Params\"][0])\n",
    "print(\"FD002 MACS: \", df_time_lstm_gpu_S2[\"MACs\"][0])\n",
    "print(\"FD002 Params: \", df_time_lstm_gpu_S2[\"Params\"][0])\n",
    "print(\"FD003 MACS: \", df_time_lstm_gpu_S3[\"MACs\"][0])\n",
    "print(\"FD003 Params: \", df_time_lstm_gpu_S3[\"Params\"][0])\n",
    "print(\"FD004 MACS: \", df_time_lstm_gpu_S4[\"MACs\"][0])\n",
    "print(\"FD004 Params: \", df_time_lstm_gpu_S4[\"Params\"][0])"
   ]
  },
  {
   "cell_type": "markdown",
   "id": "11646516",
   "metadata": {},
   "source": [
    "## LSTM cpu "
   ]
  },
  {
   "cell_type": "code",
   "execution_count": 25,
   "id": "b29eaa52",
   "metadata": {},
   "outputs": [
    {
     "name": "stdout",
     "output_type": "stream",
     "text": [
      "FD001 MACS:  326208.0\n",
      "FD001 Params:  322433.0\n",
      "FD002 MACS:  318016.0\n",
      "FD002 Params:  314241.0\n",
      "FD003 MACS:  323136.0\n",
      "FD003 Params:  319361.0\n",
      "FD004 MACS:  318016.0\n",
      "FD004 Params:  314241.0\n"
     ]
    }
   ],
   "source": [
    "print(\"FD001 MACS: \", df_time_lstm_cpu_S1[\"MACs\"][0])\n",
    "print(\"FD001 Params: \", df_time_lstm_cpu_S1[\"Params\"][0])\n",
    "print(\"FD002 MACS: \", df_time_lstm_cpu_S2[\"MACs\"][0])\n",
    "print(\"FD002 Params: \", df_time_lstm_cpu_S2[\"Params\"][0])\n",
    "print(\"FD003 MACS: \", df_time_lstm_cpu_S3[\"MACs\"][0])\n",
    "print(\"FD003 Params: \", df_time_lstm_cpu_S3[\"Params\"][0])\n",
    "print(\"FD004 MACS: \", df_time_lstm_cpu_S4[\"MACs\"][0])\n",
    "print(\"FD004 Params: \", df_time_lstm_cpu_S4[\"Params\"][0])"
   ]
  },
  {
   "cell_type": "markdown",
   "id": "8fc8acba",
   "metadata": {},
   "source": [
    "## ECAE "
   ]
  },
  {
   "cell_type": "code",
   "execution_count": 26,
   "id": "33f7dfe7",
   "metadata": {},
   "outputs": [],
   "source": [
    "df_time_ecae_S1_1layers = pd.read_csv(\"./time_only/NASA_results_val_selected_hps_FD001/cae_pytorch_rc_mlp_aggregated_prediction_val_split_withMAC/1_rc_layers/FD001_cae_pytorch_rc_pred_results_val_split.csv\", index_col=False)\n",
    "df_time_ecae_S1_2layers = pd.read_csv(\"./time_only/NASA_results_val_selected_hps_FD001/cae_pytorch_rc_mlp_aggregated_prediction_val_split_withMAC/2_rc_layers/FD001_cae_pytorch_rc_pred_results_val_split.csv\", index_col=False)\n",
    "df_time_ecae_S2_1layers = pd.read_csv(\"./time_only/NASA_results_val_selected_hps_FD002/cae_pytorch_rc_mlp_aggregated_prediction_val_split_withMAC/1_rc_layers/FD002_cae_pytorch_rc_pred_results_val_split.csv\", index_col=False)\n",
    "df_time_ecae_S2_2layers = pd.read_csv(\"./time_only/NASA_results_val_selected_hps_FD002/cae_pytorch_rc_mlp_aggregated_prediction_val_split_withMAC/2_rc_layers/FD002_cae_pytorch_rc_pred_results_val_split.csv\", index_col=False)\n",
    "df_time_ecae_S3_1layers = pd.read_csv(\"./time_only/NASA_results_val_selected_hps_FD003/cae_pytorch_rc_mlp_aggregated_prediction_val_split_withMAC/1_rc_layers/FD003_cae_pytorch_rc_pred_results_val_split.csv\", index_col=False)\n",
    "df_time_ecae_S3_2layers = pd.read_csv(\"./time_only/NASA_results_val_selected_hps_FD003/cae_pytorch_rc_mlp_aggregated_prediction_val_split_withMAC/2_rc_layers/FD003_cae_pytorch_rc_pred_results_val_split.csv\", index_col=False)\n",
    "df_time_ecae_S4_1layers = pd.read_csv(\"./time_only/NASA_results_val_selected_hps_FD004/cae_pytorch_rc_mlp_aggregated_prediction_val_split_withMAC/1_rc_layers/FD004_cae_pytorch_rc_pred_results_val_split.csv\", index_col=False)\n",
    "df_time_ecae_S4_2layers = pd.read_csv(\"./time_only/NASA_results_val_selected_hps_FD004/cae_pytorch_rc_mlp_aggregated_prediction_val_split_withMAC/2_rc_layers/FD004_cae_pytorch_rc_pred_results_val_split.csv\", index_col=False)"
   ]
  },
  {
   "cell_type": "code",
   "execution_count": 27,
   "id": "e5d08b64",
   "metadata": {},
   "outputs": [
    {
     "name": "stdout",
     "output_type": "stream",
     "text": [
      "FD001 ECAE 1 layer MACS:  24192 + 2400\n",
      "FD001 ECAE 1 layer Params:  24431 + 2497\n",
      "FD002 ECAE 1 layer MACS:  21120 + 2400\n",
      "FD002 ECAE 1 layer Params:  21351 + 2497\n",
      "FD003 ECAE 1 layer MACS:  23040 + 2400\n",
      "FD003 ECAE 1 layer Params:  23276 + 2497\n",
      "FD004 ECAE 1 layer MACS:  21120 + 2400\n",
      "FD004 ECAE 1 layer Params:  21351 + 2497\n"
     ]
    }
   ],
   "source": [
    "print(\"FD001 ECAE 1 layer MACS: \", df_time_ecae_S1_1layers[\"cae_macs\"][0], \"+\", df_time_ecae_S1_1layers[\"mlp_macs\"][0])\n",
    "print(\"FD001 ECAE 1 layer Params: \", df_time_ecae_S1_1layers[\"n_model_parameters_cae\"][0], \"+\", df_time_ecae_S1_1layers[\"n_model_parameters_mlp_readout\"][0])\n",
    "\n",
    "print(\"FD002 ECAE 1 layer MACS: \", df_time_ecae_S2_1layers[\"cae_macs\"][0], \"+\", df_time_ecae_S2_1layers[\"mlp_macs\"][0])\n",
    "print(\"FD002 ECAE 1 layer Params: \", df_time_ecae_S2_1layers[\"n_model_parameters_cae\"][0], \"+\", df_time_ecae_S2_1layers[\"n_model_parameters_mlp_readout\"][0])\n",
    "\n",
    "print(\"FD003 ECAE 1 layer MACS: \", df_time_ecae_S3_1layers[\"cae_macs\"][0], \"+\", df_time_ecae_S3_1layers[\"mlp_macs\"][0])\n",
    "print(\"FD003 ECAE 1 layer Params: \", df_time_ecae_S3_1layers[\"n_model_parameters_cae\"][0], \"+\", df_time_ecae_S3_1layers[\"n_model_parameters_mlp_readout\"][0])\n",
    "\n",
    "print(\"FD004 ECAE 1 layer MACS: \", df_time_ecae_S4_1layers[\"cae_macs\"][0], \"+\", df_time_ecae_S4_1layers[\"mlp_macs\"][0])\n",
    "print(\"FD004 ECAE 1 layer Params: \", df_time_ecae_S4_1layers[\"n_model_parameters_cae\"][0], \"+\", df_time_ecae_S4_1layers[\"n_model_parameters_mlp_readout\"][0])"
   ]
  },
  {
   "cell_type": "code",
   "execution_count": 28,
   "id": "ebbb0fbf",
   "metadata": {},
   "outputs": [
    {
     "name": "stdout",
     "output_type": "stream",
     "text": [
      "FD001 ECASE 2 layers MACS:  24192 + 2400\n",
      "FD001 ECASE 2 layers Params:  24431 + 2497\n",
      "-------------------------------------------------------\n",
      "FD002 ECASE 2 layers MACS:  21120 + 2400\n",
      "FD002 ECASE 2 layers Params:  21351 + 2497\n",
      "-------------------------------------------------------\n",
      "FD003 ECASE 2 layers MACS:  23040 + 5280\n",
      "FD003 ECASE 2 layers Params:  23276 + 5377\n",
      "-------------------------------------------------------\n",
      "FD004 ECASE 2 layers MACS:  21120 + 5280\n",
      "FD004 ECASE 2 layers Params:  21351 + 5377\n"
     ]
    }
   ],
   "source": [
    "print(\"FD001 ECASE 2 layers MACS: \", df_time_ecae_S1_2layers[\"cae_macs\"][0], \"+\", df_time_ecae_S1_2layers[\"mlp_macs\"][0])\n",
    "print(\"FD001 ECASE 2 layers Params: \", df_time_ecae_S1_2layers[\"n_model_parameters_cae\"][0], \"+\", df_time_ecae_S1_2layers[\"n_model_parameters_mlp_readout\"][0])\n",
    "print(\"-------------------------------------------------------\")\n",
    "print(\"FD002 ECASE 2 layers MACS: \", df_time_ecae_S2_2layers[\"cae_macs\"][0], \"+\", df_time_ecae_S2_2layers[\"mlp_macs\"][0])\n",
    "print(\"FD002 ECASE 2 layers Params: \", df_time_ecae_S2_2layers[\"n_model_parameters_cae\"][0], \"+\", df_time_ecae_S2_2layers[\"n_model_parameters_mlp_readout\"][0])\n",
    "print(\"-------------------------------------------------------\")\n",
    "print(\"FD003 ECASE 2 layers MACS: \", df_time_ecae_S3_2layers[\"cae_macs\"][0], \"+\", df_time_ecae_S3_2layers[\"mlp_macs\"][0])\n",
    "print(\"FD003 ECASE 2 layers Params: \", df_time_ecae_S3_2layers[\"n_model_parameters_cae\"][0], \"+\", df_time_ecae_S3_2layers[\"n_model_parameters_mlp_readout\"][0])\n",
    "print(\"-------------------------------------------------------\")\n",
    "print(\"FD004 ECASE 2 layers MACS: \", df_time_ecae_S4_2layers[\"cae_macs\"][0], \"+\", df_time_ecae_S4_2layers[\"mlp_macs\"][0])\n",
    "print(\"FD004 ECASE 2 layers Params: \", df_time_ecae_S4_2layers[\"n_model_parameters_cae\"][0], \"+\", df_time_ecae_S4_2layers[\"n_model_parameters_mlp_readout\"][0])"
   ]
  },
  {
   "cell_type": "markdown",
   "id": "ce57839e",
   "metadata": {},
   "source": [
    "## RACE step 1"
   ]
  },
  {
   "cell_type": "code",
   "execution_count": 29,
   "id": "b6716386",
   "metadata": {},
   "outputs": [],
   "source": [
    "df_time_race_S1_step1_layer1 = pd.read_csv(\"./time_only/NASA_results_val_selected_hps_FD001/race_free_mlp_aggregated_prediction_val_split_step1/1_layers/FD001_prediction_results_loadedHPs.csv\", index_col=False)\n",
    "df_time_race_S1_step1_layer2 = pd.read_csv(\"./time_only/NASA_results_val_selected_hps_FD001/race_free_mlp_aggregated_prediction_val_split_step1/2_layers/FD001_prediction_results_loadedHPs.csv\", index_col=False)\n",
    "df_time_race_S1_step2_layer1 = pd.read_csv(\"./time_only/NASA_results_val_selected_hps_FD001/race_free_mlp_aggregated_prediction_val_split_step2/1_layers/FD001_prediction_results_loadedHPs.csv\", index_col=False)\n",
    "df_time_race_S1_step2_layer2 = pd.read_csv(\"./time_only/NASA_results_val_selected_hps_FD001/race_free_mlp_aggregated_prediction_val_split_step2/2_layers/FD001_prediction_results_loadedHPs.csv\", index_col=False)\n",
    "\n",
    "df_time_race_S2_step1_layer1 = pd.read_csv(\"./time_only/NASA_results_val_selected_hps_FD002/race_free_mlp_aggregated_prediction_val_split_step1/1_layers/FD002_prediction_results_loadedHPs.csv\", index_col=False)\n",
    "df_time_race_S2_step1_layer2 = pd.read_csv(\"./time_only/NASA_results_val_selected_hps_FD002/race_free_mlp_aggregated_prediction_val_split_step1/2_layers/FD002_prediction_results_loadedHPs.csv\", index_col=False)\n",
    "df_time_race_S2_step2_layer1 = pd.read_csv(\"./time_only/NASA_results_val_selected_hps_FD002/race_free_mlp_aggregated_prediction_val_split_step2/1_layers/FD002_prediction_results_loadedHPs.csv\", index_col=False)\n",
    "df_time_race_S2_step2_layer2 = pd.read_csv(\"./time_only/NASA_results_val_selected_hps_FD002/race_free_mlp_aggregated_prediction_val_split_step2/2_layers/FD002_prediction_results_loadedHPs.csv\", index_col=False)\n",
    "\n",
    "df_time_race_S3_step1_layer1 = pd.read_csv(\"./time_only/NASA_results_val_selected_hps_FD003/race_free_mlp_aggregated_prediction_val_split_step1/1_layers/FD003_prediction_results_loadedHPs.csv\", index_col=False)\n",
    "df_time_race_S3_step1_layer2 = pd.read_csv(\"./time_only/NASA_results_val_selected_hps_FD003/race_free_mlp_aggregated_prediction_val_split_step1/2_layers/FD003_prediction_results_loadedHPs.csv\", index_col=False)\n",
    "df_time_race_S3_step2_layer1 = pd.read_csv(\"./time_only/NASA_results_val_selected_hps_FD003/race_free_mlp_aggregated_prediction_val_split_step2/1_layers/FD003_prediction_results_loadedHPs.csv\", index_col=False)\n",
    "df_time_race_S3_step2_layer2 = pd.read_csv(\"./time_only/NASA_results_val_selected_hps_FD003/race_free_mlp_aggregated_prediction_val_split_step2/2_layers/FD003_prediction_results_loadedHPs.csv\", index_col=False)\n",
    "\n",
    "df_time_race_S4_step1_layer1 = pd.read_csv(\"./time_only/NASA_results_val_selected_hps_FD004/race_free_mlp_aggregated_prediction_val_split_step1/1_layers/FD004_prediction_results_loadedHPs.csv\", index_col=False)\n",
    "df_time_race_S4_step1_layer2 = pd.read_csv(\"./time_only/NASA_results_val_selected_hps_FD004/race_free_mlp_aggregated_prediction_val_split_step1/2_layers/FD004_prediction_results_loadedHPs.csv\", index_col=False)\n",
    "df_time_race_S4_step2_layer1 = pd.read_csv(\"./time_only/NASA_results_val_selected_hps_FD004/race_free_mlp_aggregated_prediction_val_split_step2/1_layers/FD004_prediction_results_loadedHPs.csv\", index_col=False)\n",
    "df_time_race_S4_step2_layer2 = pd.read_csv(\"./time_only/NASA_results_val_selected_hps_FD004/race_free_mlp_aggregated_prediction_val_split_step2/2_layers/FD004_prediction_results_loadedHPs.csv\", index_col=False)"
   ]
  },
  {
   "cell_type": "code",
   "execution_count": 30,
   "id": "bde92189",
   "metadata": {},
   "outputs": [
    {
     "name": "stdout",
     "output_type": "stream",
     "text": [
      "FD001 RACE -step1- 1 layers MACS: 5280\n",
      "FD001 RACE -step1- 1 layers Params: 5377\n",
      "FD001 RACE -step1- 2 layers MACS: 5280\n",
      "FD001 RACE -step1- 2 layers Params: 5377\n",
      "--------------------------------------------------------\n",
      "FD002 RACE -step1- 1 layers MACS: 34080\n",
      "FD002 RACE -step1- 1 layers Params: 34177\n",
      "FD002 RACE -step1- 2 layers MACS: 5280\n",
      "FD002 RACE -step1- 2 layers Params: 5377\n",
      "--------------------------------------------------------\n",
      "FD003 RACE -step1- 1 layers MACS: 5280\n",
      "FD003 RACE -step1- 1 layers Params: 5377\n",
      "FD003 RACE -step1- 2 layers MACS: 2400\n",
      "FD003 RACE -step1- 2 layers Params: 2497\n",
      "--------------------------------------------------------\n",
      "FD004 RACE -step1- 1 layers MACS: 5280\n",
      "FD004 RACE -step1- 1 layers Params: 5377\n",
      "FD004 RACE -step1- 2 layers MACS: 2400\n",
      "FD004 RACe -step1- 2 layers Params: 2497\n"
     ]
    }
   ],
   "source": [
    "print(\"FD001 RACE -step1- 1 layers MACS:\", df_time_race_S1_step1_layer1[\"mlp_macs\"][0])\n",
    "print(\"FD001 RACE -step1- 1 layers Params:\", df_time_race_S1_step1_layer1[\"n_model_parameters_readout\"][0])\n",
    "print(\"FD001 RACE -step1- 2 layers MACS:\", df_time_race_S1_step1_layer2[\"mlp_macs\"][0])\n",
    "print(\"FD001 RACE -step1- 2 layers Params:\", df_time_race_S1_step1_layer2[\"n_model_parameters_readout\"][0])\n",
    "print(\"--------------------------------------------------------\")\n",
    "print(\"FD002 RACE -step1- 1 layers MACS:\", df_time_race_S2_step1_layer1[\"mlp_macs\"][0])\n",
    "print(\"FD002 RACE -step1- 1 layers Params:\", df_time_race_S2_step1_layer1[\"n_model_parameters_readout\"][0])\n",
    "print(\"FD002 RACE -step1- 2 layers MACS:\", df_time_race_S2_step1_layer2[\"mlp_macs\"][0])\n",
    "print(\"FD002 RACE -step1- 2 layers Params:\", df_time_race_S2_step1_layer2[\"n_model_parameters_readout\"][0])\n",
    "print(\"--------------------------------------------------------\")\n",
    "print(\"FD003 RACE -step1- 1 layers MACS:\", df_time_race_S3_step1_layer1[\"mlp_macs\"][0])\n",
    "print(\"FD003 RACE -step1- 1 layers Params:\", df_time_race_S3_step1_layer1[\"n_model_parameters_readout\"][0])\n",
    "print(\"FD003 RACE -step1- 2 layers MACS:\", df_time_race_S3_step1_layer2[\"mlp_macs\"][0])\n",
    "print(\"FD003 RACE -step1- 2 layers Params:\", df_time_race_S3_step1_layer2[\"n_model_parameters_readout\"][0])\n",
    "print(\"--------------------------------------------------------\")\n",
    "print(\"FD004 RACE -step1- 1 layers MACS:\", df_time_race_S4_step1_layer1[\"mlp_macs\"][0])\n",
    "print(\"FD004 RACE -step1- 1 layers Params:\", df_time_race_S4_step1_layer1[\"n_model_parameters_readout\"][0])\n",
    "print(\"FD004 RACE -step1- 2 layers MACS:\", df_time_race_S4_step1_layer2[\"mlp_macs\"][0])\n",
    "print(\"FD004 RACe -step1- 2 layers Params:\", df_time_race_S4_step1_layer2[\"n_model_parameters_readout\"][0])\n"
   ]
  },
  {
   "cell_type": "markdown",
   "id": "0475c809",
   "metadata": {},
   "source": [
    "## step 2"
   ]
  },
  {
   "cell_type": "code",
   "execution_count": 31,
   "id": "55ab6459",
   "metadata": {},
   "outputs": [
    {
     "name": "stdout",
     "output_type": "stream",
     "text": [
      "FD001 RACE -step2- 1 layers MACS: 5280\n",
      "FD001 RACE -step2- 1 layers Params: 5377\n",
      "FD001 RACE -step2- 2 layers MACS: 5280\n",
      "FD001 RACE -step2- 2 layers Params: 5377\n",
      "--------------------------------------------------------\n",
      "FD002 RACE -step2- 1 layers MACS: 5280\n",
      "FD002 RACE -step2- 1 layers Params: 5377\n",
      "FD002 RACE -step2- 2 layers MACS: 5280\n",
      "FD002 RACE -step2- 2 layers Params: 5377\n",
      "--------------------------------------------------------\n",
      "FD003 RACE -step2- 1 layers MACS: 5280\n",
      "FD003 RACE -step2- 1 layers Params: 5377\n",
      "FD003 RACE -step2- 2 layers MACS: 5280\n",
      "FD003 RACE -step2- 2 layers Params: 5377\n",
      "--------------------------------------------------------\n",
      "FD004 RACE -step2- 1 layers MACS: 5280\n",
      "FD004 RACE -step2- 1 layers Params: 5377\n",
      "FD004 RACE -step2- 2 layers MACS: 5280\n",
      "FD004 RACe -step2- 2 layers Params: 5377\n"
     ]
    }
   ],
   "source": [
    "print(\"FD001 RACE -step2- 1 layers MACS:\", df_time_race_S1_step2_layer1[\"mlp_macs\"][0])\n",
    "print(\"FD001 RACE -step2- 1 layers Params:\", df_time_race_S1_step2_layer1[\"n_model_parameters_readout\"][0])\n",
    "print(\"FD001 RACE -step2- 2 layers MACS:\", df_time_race_S1_step2_layer2[\"mlp_macs\"][0])\n",
    "print(\"FD001 RACE -step2- 2 layers Params:\", df_time_race_S1_step2_layer2[\"n_model_parameters_readout\"][0])\n",
    "print(\"--------------------------------------------------------\")\n",
    "print(\"FD002 RACE -step2- 1 layers MACS:\", df_time_race_S2_step2_layer1[\"mlp_macs\"][0])\n",
    "print(\"FD002 RACE -step2- 1 layers Params:\", df_time_race_S2_step2_layer1[\"n_model_parameters_readout\"][0])\n",
    "print(\"FD002 RACE -step2- 2 layers MACS:\", df_time_race_S2_step2_layer2[\"mlp_macs\"][0])\n",
    "print(\"FD002 RACE -step2- 2 layers Params:\", df_time_race_S2_step2_layer2[\"n_model_parameters_readout\"][0])\n",
    "print(\"--------------------------------------------------------\")\n",
    "print(\"FD003 RACE -step2- 1 layers MACS:\", df_time_race_S3_step2_layer1[\"mlp_macs\"][0])\n",
    "print(\"FD003 RACE -step2- 1 layers Params:\", df_time_race_S3_step2_layer1[\"n_model_parameters_readout\"][0])\n",
    "print(\"FD003 RACE -step2- 2 layers MACS:\", df_time_race_S3_step2_layer2[\"mlp_macs\"][0])\n",
    "print(\"FD003 RACE -step2- 2 layers Params:\", df_time_race_S3_step2_layer2[\"n_model_parameters_readout\"][0])\n",
    "print(\"--------------------------------------------------------\")\n",
    "print(\"FD004 RACE -step2- 1 layers MACS:\", df_time_race_S4_step2_layer1[\"mlp_macs\"][0])\n",
    "print(\"FD004 RACE -step2- 1 layers Params:\", df_time_race_S4_step2_layer1[\"n_model_parameters_readout\"][0])\n",
    "print(\"FD004 RACE -step2- 2 layers MACS:\", df_time_race_S4_step2_layer2[\"mlp_macs\"][0])\n",
    "print(\"FD004 RACe -step2- 2 layers Params:\", df_time_race_S4_step2_layer2[\"n_model_parameters_readout\"][0])\n"
   ]
  }
 ],
 "metadata": {
  "kernelspec": {
   "display_name": "eneaFL",
   "language": "python",
   "name": "python3"
  },
  "language_info": {
   "codemirror_mode": {
    "name": "ipython",
    "version": 3
   },
   "file_extension": ".py",
   "mimetype": "text/x-python",
   "name": "python",
   "nbconvert_exporter": "python",
   "pygments_lexer": "ipython3",
   "version": "3.11.3"
  }
 },
 "nbformat": 4,
 "nbformat_minor": 5
}
