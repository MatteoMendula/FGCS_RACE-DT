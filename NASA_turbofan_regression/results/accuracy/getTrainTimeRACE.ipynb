{
 "cells": [
  {
   "cell_type": "code",
   "execution_count": 24,
   "id": "9f7f4112",
   "metadata": {},
   "outputs": [],
   "source": [
    "import pandas as pd"
   ]
  },
  {
   "cell_type": "code",
   "execution_count": 25,
   "id": "0168979e",
   "metadata": {},
   "outputs": [],
   "source": [
    "settings = [\"FD001\", \"FD002\", \"FD003\", \"FD004\"]\n",
    "layers = [\"1_layers\", \"2_layers\"]"
   ]
  },
  {
   "cell_type": "code",
   "execution_count": 26,
   "id": "47403826",
   "metadata": {},
   "outputs": [],
   "source": [
    "mlp_train = []\n",
    "hp_search = []\n",
    "\n",
    "for setting in settings:\n",
    "    for layer in layers:\n",
    "        # Load the training data\n",
    "        train_data = pd.read_csv(f\"./RC/{setting}/mlp_aggregated_prediction_step1/{layer}/{setting}_prediction_results.csv\")\n",
    "        mlp_ttime = train_data[\"final_mlp_training_time\"][0]\n",
    "        hp_search_time = train_data[\"hp_search_time\"][0]\n",
    "        mlp_train.append(mlp_ttime)\n",
    "        hp_search.append(hp_search_time)"
   ]
  },
  {
   "cell_type": "code",
   "execution_count": 27,
   "id": "7c90dbaa",
   "metadata": {},
   "outputs": [
    {
     "name": "stdout",
     "output_type": "stream",
     "text": [
      "mlp_train mean + std 102.86 + 125.88\n",
      "hp_search mean + std 2246.71 + 1812.96\n"
     ]
    }
   ],
   "source": [
    "print(\"mlp_train mean + std\", \n",
    "      f\"{pd.Series(mlp_train).mean():.2f} + {pd.Series(mlp_train).std():.2f}\")\n",
    "print(\"hp_search mean + std\",\n",
    "      f\"{pd.Series(hp_search).mean():.2f} + {pd.Series(hp_search).std():.2f}\")"
   ]
  },
  {
   "cell_type": "code",
   "execution_count": 28,
   "id": "09792fd7",
   "metadata": {},
   "outputs": [],
   "source": [
    "mlp_train = []\n",
    "hp_search = []\n",
    "\n",
    "for setting in settings:\n",
    "    for layer in layers:\n",
    "        # Load the training data\n",
    "        train_data = pd.read_csv(f\"./RC/{setting}/mlp_aggregated_prediction_step2/{layer}/{setting}_final_test_results_val_selected.csv\")\n",
    "        mlp_ttime = train_data[\"final_mlp_training_time_seconds\"][0]\n",
    "        hp_search_time = train_data[\"total_hp_evaluation_time_seconds\"][0]\n",
    "        mlp_train.append(mlp_ttime)\n",
    "        hp_search.append(hp_search_time)"
   ]
  },
  {
   "cell_type": "code",
   "execution_count": 29,
   "id": "a7de8bbb",
   "metadata": {},
   "outputs": [
    {
     "name": "stdout",
     "output_type": "stream",
     "text": [
      "mlp_train mean + std 28.20 + 13.95\n",
      "hp_search mean + std 96.32 + 37.95\n"
     ]
    }
   ],
   "source": [
    "print(\"mlp_train mean + std\", \n",
    "      f\"{pd.Series(mlp_train).mean():.2f} + {pd.Series(mlp_train).std():.2f}\")\n",
    "print(\"hp_search mean + std\",\n",
    "      f\"{pd.Series(hp_search).mean():.2f} + {pd.Series(hp_search).std():.2f}\")"
   ]
  }
 ],
 "metadata": {
  "kernelspec": {
   "display_name": "eneaFL",
   "language": "python",
   "name": "python3"
  },
  "language_info": {
   "codemirror_mode": {
    "name": "ipython",
    "version": 3
   },
   "file_extension": ".py",
   "mimetype": "text/x-python",
   "name": "python",
   "nbconvert_exporter": "python",
   "pygments_lexer": "ipython3",
   "version": "3.11.3"
  }
 },
 "nbformat": 4,
 "nbformat_minor": 5
}
