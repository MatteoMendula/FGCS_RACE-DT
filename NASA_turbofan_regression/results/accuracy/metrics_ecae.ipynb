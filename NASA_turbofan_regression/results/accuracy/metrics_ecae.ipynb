{
 "cells": [
  {
   "cell_type": "code",
   "execution_count": 42,
   "id": "20644143",
   "metadata": {},
   "outputs": [],
   "source": [
    "import pandas as pd\n",
    "import torch \n",
    "import torch.nn as nn"
   ]
  },
  {
   "cell_type": "code",
   "execution_count": 43,
   "id": "84c54fbb",
   "metadata": {},
   "outputs": [],
   "source": [
    "settings = [\n",
    "    \"FD001\",\n",
    "    \"FD002\",\n",
    "    \"FD003\",\n",
    "    \"FD004\",\n",
    "]\n",
    "\n",
    "layers = [\n",
    "    \"1_rc_layers\",\n",
    "    \"2_rc_layers\"\n",
    "]\n",
    "\n",
    "avg_train_time_mlp = []\n",
    "avg_train_time_ae = []\n",
    "avg_predict_time = []\n",
    "avg_r2 = []\n",
    "avg_rmse = []\n",
    "macs_mlp = []\n",
    "params_mlp = []\n",
    "macs_ae = []\n",
    "params_ae = []"
   ]
  },
  {
   "cell_type": "code",
   "execution_count": 44,
   "id": "b064167c",
   "metadata": {},
   "outputs": [],
   "source": [
    "for s in settings:\n",
    "    for l in layers:\n",
    "        # Read the CSV file\n",
    "        df = pd.read_csv(f\"./RC/{s}/cae_pytorch_rc_mlp_aggregated_prediction_val_split_withMAC_merged/{l}/{s}_cae_pytorch_rc_pred_results_val_split.csv\")\n",
    "\n",
    "        # get item\n",
    "        train_time_mlp = df[\"final_mlp_training_time\"][0]\n",
    "        train_time_ae = df[\"cae_training_time\"][0]\n",
    "        pred_time = df[\"final_mlp_prediction_time_test\"][0]\n",
    "        r2 = df[\"r_squared\"][0]\n",
    "        rmse = df[\"rmse\"][0]\n",
    "        \n",
    "\n",
    "        # Append the values to the lists\n",
    "        avg_train_time_mlp.append(train_time_mlp)\n",
    "        avg_train_time_ae.append(train_time_ae)\n",
    "        avg_predict_time.append(pred_time)\n",
    "        avg_r2.append(r2)\n",
    "        avg_rmse.append(rmse)\n",
    "\n",
    "        # macs.append(df[\"MACs\"][0])\n",
    "        # avg_params.append(df[\"Params\"][0])"
   ]
  },
  {
   "cell_type": "code",
   "execution_count": 45,
   "id": "543f0b79",
   "metadata": {},
   "outputs": [
    {
     "data": {
      "text/html": [
       "<div>\n",
       "<style scoped>\n",
       "    .dataframe tbody tr th:only-of-type {\n",
       "        vertical-align: middle;\n",
       "    }\n",
       "\n",
       "    .dataframe tbody tr th {\n",
       "        vertical-align: top;\n",
       "    }\n",
       "\n",
       "    .dataframe thead th {\n",
       "        text-align: right;\n",
       "    }\n",
       "</style>\n",
       "<table border=\"1\" class=\"dataframe\">\n",
       "  <thead>\n",
       "    <tr style=\"text-align: right;\">\n",
       "      <th></th>\n",
       "      <th>original_input_dim</th>\n",
       "      <th>max_timesteps_train_data_for_padding</th>\n",
       "      <th>cae_training_time</th>\n",
       "      <th>cae_latent_dim</th>\n",
       "      <th>cae_macs</th>\n",
       "      <th>rc_hp_search_time</th>\n",
       "      <th>final_mlp_training_time</th>\n",
       "      <th>mlp_training_time_hps_best_model</th>\n",
       "      <th>mlp_macs</th>\n",
       "      <th>final_mlp_prediction_time_test</th>\n",
       "      <th>r_squared</th>\n",
       "      <th>rmse</th>\n",
       "      <th>model_name</th>\n",
       "      <th>n_model_parameters_mlp_readout</th>\n",
       "      <th>n_model_parameters_cae</th>\n",
       "      <th>n_model_parameters_total_approx</th>\n",
       "      <th>n_rc_layers</th>\n",
       "      <th>validation_split_size_for_hps</th>\n",
       "      <th>best_hps_validation_score_neg_mse</th>\n",
       "      <th>best_hps_params</th>\n",
       "    </tr>\n",
       "  </thead>\n",
       "  <tbody>\n",
       "    <tr>\n",
       "      <th>0</th>\n",
       "      <td>7</td>\n",
       "      <td>1</td>\n",
       "      <td>590.418973</td>\n",
       "      <td>32</td>\n",
       "      <td>21120</td>\n",
       "      <td>1707.925264</td>\n",
       "      <td>46.210754</td>\n",
       "      <td>44.965806</td>\n",
       "      <td>5280</td>\n",
       "      <td>0.000385</td>\n",
       "      <td>0.251204</td>\n",
       "      <td>47.181061</td>\n",
       "      <td>CAE_PyTorch_RC_MLP_FD004_val_split</td>\n",
       "      <td>5377</td>\n",
       "      <td>21351</td>\n",
       "      <td>26728</td>\n",
       "      <td>2</td>\n",
       "      <td>0.4</td>\n",
       "      <td>-1010.344307</td>\n",
       "      <td>[{'units': 500, 'RC_node_type': 'ESN', 'sr': 0...</td>\n",
       "    </tr>\n",
       "  </tbody>\n",
       "</table>\n",
       "</div>"
      ],
      "text/plain": [
       "   original_input_dim  max_timesteps_train_data_for_padding  \\\n",
       "0                   7                                     1   \n",
       "\n",
       "   cae_training_time  cae_latent_dim  cae_macs  rc_hp_search_time  \\\n",
       "0         590.418973              32     21120        1707.925264   \n",
       "\n",
       "   final_mlp_training_time  mlp_training_time_hps_best_model  mlp_macs  \\\n",
       "0                46.210754                         44.965806      5280   \n",
       "\n",
       "   final_mlp_prediction_time_test  r_squared       rmse  \\\n",
       "0                        0.000385   0.251204  47.181061   \n",
       "\n",
       "                           model_name  n_model_parameters_mlp_readout  \\\n",
       "0  CAE_PyTorch_RC_MLP_FD004_val_split                            5377   \n",
       "\n",
       "   n_model_parameters_cae  n_model_parameters_total_approx  n_rc_layers  \\\n",
       "0                   21351                            26728            2   \n",
       "\n",
       "   validation_split_size_for_hps  best_hps_validation_score_neg_mse  \\\n",
       "0                            0.4                       -1010.344307   \n",
       "\n",
       "                                     best_hps_params  \n",
       "0  [{'units': 500, 'RC_node_type': 'ESN', 'sr': 0...  "
      ]
     },
     "execution_count": 45,
     "metadata": {},
     "output_type": "execute_result"
    }
   ],
   "source": [
    "df"
   ]
  },
  {
   "cell_type": "code",
   "execution_count": 46,
   "id": "4738e694",
   "metadata": {},
   "outputs": [
    {
     "name": "stdout",
     "output_type": "stream",
     "text": [
      "Average Train Time mlp (std):  29.271028488874435  ( 12.430963305759414 )\n",
      "Average Train Time ae (std):  387.8243327140808  ( 181.73627595123605 )\n",
      "Average Predict Time (std):  0.00047516822814936256  ( 0.00015706788303850467 )\n",
      "Average R2 (std):  0.45797534562934283  ( 0.19768698124105458 )\n",
      "Average RMSE (std):  35.391149781655194  ( 11.241385429841854 )\n"
     ]
    }
   ],
   "source": [
    "# print avg and std\n",
    "print(\"Average Train Time mlp (std): \", sum(avg_train_time_mlp)/len(avg_train_time_mlp), \" (\", torch.std(torch.tensor(avg_train_time_mlp)).item(), \")\")\n",
    "print(\"Average Train Time ae (std): \", sum(avg_train_time_ae)/len(avg_train_time_ae), \" (\", torch.std(torch.tensor(avg_train_time_ae)).item(), \")\")\n",
    "print(\"Average Predict Time (std): \", sum(avg_predict_time)/len(avg_predict_time), \" (\", torch.std(torch.tensor(avg_predict_time)).item(), \")\")\n",
    "print(\"Average R2 (std): \", sum(avg_r2)/len(avg_r2), \" (\", torch.std(torch.tensor(avg_r2)).item(), \")\")\n",
    "print(\"Average RMSE (std): \", sum(avg_rmse)/len(avg_rmse), \" (\", torch.std(torch.tensor(avg_rmse)).item(), \")\")\n"
   ]
  },
  {
   "cell_type": "code",
   "execution_count": 47,
   "id": "85d07052",
   "metadata": {},
   "outputs": [],
   "source": [
    "for s in settings:\n",
    "    for l in layers:\n",
    "        # Read the CSV file\n",
    "        df = pd.read_csv(f\"./RC/{s}/cae_pytorch_rc_mlp_aggregated_prediction_val_split_withMAC_merged/{l}/{s}_cae_pytorch_rc_pred_results_val_split.csv\")\n",
    "\n",
    "        # get item\n",
    "        _macs_mlp = df[\"mlp_macs\"][0]\n",
    "        _params_mlp = df[\"n_model_parameters_mlp_readout\"][0]\n",
    "        _macs_ae = df[\"cae_macs\"][0]\n",
    "        _params_ae = df[\"n_model_parameters_cae\"][0]\n",
    "\n",
    "        # Append the values to the lists\n",
    "        macs_mlp.append(_macs_mlp)\n",
    "        macs_ae.append(_macs_ae)\n",
    "        params_mlp.append(_params_mlp)\n",
    "        params_ae.append(_params_ae)"
   ]
  },
  {
   "cell_type": "code",
   "execution_count": 48,
   "id": "73a7aee8",
   "metadata": {},
   "outputs": [
    {
     "data": {
      "text/plain": [
       "[34080, 5280, 2400, 5280, 34080, 5280, 2400, 5280]"
      ]
     },
     "execution_count": 48,
     "metadata": {},
     "output_type": "execute_result"
    }
   ],
   "source": [
    "macs_mlp "
   ]
  },
  {
   "cell_type": "code",
   "execution_count": 49,
   "id": "f989460f",
   "metadata": {},
   "outputs": [
    {
     "name": "stdout",
     "output_type": "stream",
     "text": [
      "Average MACs mlp (std):  11760.0  ( 13833.425358271072 )\n",
      "Average Params mlp (std):  11857.0  ( 13833.425358271072 )\n",
      "Average MACs ae (std):  22368.0  ( 1403.421126085416 )\n",
      "Average Params ae (std):  22602.25  ( 1407.0758686012634 )\n"
     ]
    }
   ],
   "source": [
    "print(\"Average MACs mlp (std): \", sum(macs_mlp)/len(macs_mlp), \" (\", torch.std(torch.tensor(macs_mlp, dtype=float)).item(), \")\")\n",
    "print(\"Average Params mlp (std): \", sum(params_mlp)/len(params_mlp), \" (\", torch.std(torch.tensor(params_mlp, dtype=float)).item(), \")\")\n",
    "print(\"Average MACs ae (std): \", sum(macs_ae)/len(macs_ae), \" (\", torch.std(torch.tensor(macs_ae, dtype=float)).item(), \")\")\n",
    "print(\"Average Params ae (std): \", sum(params_ae)/len(params_ae), \" (\", torch.std(torch.tensor(params_ae, dtype=float)).item(), \")\")"
   ]
  }
 ],
 "metadata": {
  "kernelspec": {
   "display_name": "eneaFL",
   "language": "python",
   "name": "python3"
  },
  "language_info": {
   "codemirror_mode": {
    "name": "ipython",
    "version": 3
   },
   "file_extension": ".py",
   "mimetype": "text/x-python",
   "name": "python",
   "nbconvert_exporter": "python",
   "pygments_lexer": "ipython3",
   "version": "3.11.3"
  }
 },
 "nbformat": 4,
 "nbformat_minor": 5
}
