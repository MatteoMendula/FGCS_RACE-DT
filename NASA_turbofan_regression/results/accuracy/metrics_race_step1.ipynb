{
 "cells": [
  {
   "cell_type": "code",
   "execution_count": 12,
   "id": "20644143",
   "metadata": {},
   "outputs": [],
   "source": [
    "import pandas as pd\n",
    "import torch \n",
    "import torch.nn as nn"
   ]
  },
  {
   "cell_type": "code",
   "execution_count": 13,
   "id": "84c54fbb",
   "metadata": {},
   "outputs": [],
   "source": [
    "settings = [\n",
    "    \"FD001\",\n",
    "    \"FD002\",\n",
    "    \"FD003\",\n",
    "    \"FD004\",\n",
    "]\n",
    "\n",
    "layers = [\n",
    "    \"1_layers\",\n",
    "    \"2_layers\"\n",
    "]\n",
    "\n",
    "avg_train_time_mlp = []\n",
    "avg_train_time_ae = []\n",
    "avg_predict_time = []\n",
    "avg_r2 = []\n",
    "avg_rmse = []\n",
    "macs_mlp = []\n",
    "params_mlp = []\n",
    "macs_ae = []\n",
    "params_ae = []"
   ]
  },
  {
   "cell_type": "code",
   "execution_count": 14,
   "id": "b064167c",
   "metadata": {},
   "outputs": [],
   "source": [
    "for s in settings:\n",
    "    for l in layers:\n",
    "        # Read the CSV file\n",
    "        df = pd.read_csv(f\"./RC/{s}/mlp_aggregated_prediction_step1/{l}/{s}_prediction_results.csv\")\n",
    "\n",
    "        # get item\n",
    "        train_time_mlp = df[\"final_mlp_training_time\"][0]\n",
    "        r2 = df[\"r_squared\"][0]\n",
    "        rmse = df[\"rmse\"][0]\n",
    "        \n",
    "\n",
    "        # Append the values to the lists\n",
    "        avg_train_time_mlp.append(train_time_mlp)\n",
    "        avg_r2.append(r2)\n",
    "        avg_rmse.append(rmse)\n",
    "\n",
    "        # macs.append(df[\"MACs\"][0])\n",
    "        # avg_params.append(df[\"Params\"][0])"
   ]
  },
  {
   "cell_type": "code",
   "execution_count": 15,
   "id": "543f0b79",
   "metadata": {},
   "outputs": [
    {
     "data": {
      "text/html": [
       "<div>\n",
       "<style scoped>\n",
       "    .dataframe tbody tr th:only-of-type {\n",
       "        vertical-align: middle;\n",
       "    }\n",
       "\n",
       "    .dataframe tbody tr th {\n",
       "        vertical-align: top;\n",
       "    }\n",
       "\n",
       "    .dataframe thead th {\n",
       "        text-align: right;\n",
       "    }\n",
       "</style>\n",
       "<table border=\"1\" class=\"dataframe\">\n",
       "  <thead>\n",
       "    <tr style=\"text-align: right;\">\n",
       "      <th></th>\n",
       "      <th>final_mlp_training_time</th>\n",
       "      <th>r_squared</th>\n",
       "      <th>rmse</th>\n",
       "      <th>hp_search_time</th>\n",
       "      <th>model_name</th>\n",
       "      <th>n_model_parameters_readout</th>\n",
       "      <th>n_model_parameters_total</th>\n",
       "      <th>input_dim</th>\n",
       "      <th>n_layers_rc</th>\n",
       "    </tr>\n",
       "  </thead>\n",
       "  <tbody>\n",
       "    <tr>\n",
       "      <th>0</th>\n",
       "      <td>405.369479</td>\n",
       "      <td>0.304628</td>\n",
       "      <td>45.466838</td>\n",
       "      <td>6213.191102</td>\n",
       "      <td>RCPredNet_Aggregated_MLP_FD004</td>\n",
       "      <td>5377</td>\n",
       "      <td>5377</td>\n",
       "      <td>7</td>\n",
       "      <td>2</td>\n",
       "    </tr>\n",
       "  </tbody>\n",
       "</table>\n",
       "</div>"
      ],
      "text/plain": [
       "   final_mlp_training_time  r_squared       rmse  hp_search_time  \\\n",
       "0               405.369479   0.304628  45.466838     6213.191102   \n",
       "\n",
       "                       model_name  n_model_parameters_readout  \\\n",
       "0  RCPredNet_Aggregated_MLP_FD004                        5377   \n",
       "\n",
       "   n_model_parameters_total  input_dim  n_layers_rc  \n",
       "0                      5377          7            2  "
      ]
     },
     "execution_count": 15,
     "metadata": {},
     "output_type": "execute_result"
    }
   ],
   "source": [
    "df"
   ]
  },
  {
   "cell_type": "code",
   "execution_count": 18,
   "id": "0f78bb3c",
   "metadata": {},
   "outputs": [
    {
     "data": {
      "text/plain": [
       "[76.5310914516449,\n",
       " 76.4670147895813,\n",
       " 31.12914276123047,\n",
       " 118.63956356048584,\n",
       " 45.67767071723938,\n",
       " 32.162307262420654,\n",
       " 36.91135859489441,\n",
       " 405.36947894096375]"
      ]
     },
     "execution_count": 18,
     "metadata": {},
     "output_type": "execute_result"
    }
   ],
   "source": [
    "avg_train_time_mlp"
   ]
  },
  {
   "cell_type": "code",
   "execution_count": 16,
   "id": "4738e694",
   "metadata": {},
   "outputs": [
    {
     "name": "stdout",
     "output_type": "stream",
     "text": [
      "Average Train Time mlp (std):  102.86095350980759  ( 125.87596064930153 )\n",
      "Average R2 (std):  0.5072471058623073  ( 0.2560059010603869 )\n",
      "Average RMSE (std):  33.55710430203087  ( 13.582426031740015 )\n"
     ]
    }
   ],
   "source": [
    "# print avg and std\n",
    "print(\"Average Train Time mlp (std): \", sum(avg_train_time_mlp)/len(avg_train_time_mlp), \" (\", torch.std(torch.tensor(avg_train_time_mlp)).item(), \")\")\n",
    "print(\"Average R2 (std): \", sum(avg_r2)/len(avg_r2), \" (\", torch.std(torch.tensor(avg_r2)).item(), \")\")\n",
    "print(\"Average RMSE (std): \", sum(avg_rmse)/len(avg_rmse), \" (\", torch.std(torch.tensor(avg_rmse)).item(), \")\")\n"
   ]
  },
  {
   "cell_type": "code",
   "execution_count": 17,
   "id": "85d07052",
   "metadata": {},
   "outputs": [
    {
     "ename": "KeyError",
     "evalue": "'mlp_macs'",
     "output_type": "error",
     "traceback": [
      "\u001b[0;31m---------------------------------------------------------------------------\u001b[0m",
      "\u001b[0;31mKeyError\u001b[0m                                  Traceback (most recent call last)",
      "File \u001b[0;32m~/anaconda3/envs/eneaFL/lib/python3.11/site-packages/pandas/core/indexes/base.py:3652\u001b[0m, in \u001b[0;36mIndex.get_loc\u001b[0;34m(self, key)\u001b[0m\n\u001b[1;32m   3651\u001b[0m \u001b[38;5;28;01mtry\u001b[39;00m:\n\u001b[0;32m-> 3652\u001b[0m     \u001b[38;5;28;01mreturn\u001b[39;00m \u001b[38;5;28;43mself\u001b[39;49m\u001b[38;5;241;43m.\u001b[39;49m\u001b[43m_engine\u001b[49m\u001b[38;5;241;43m.\u001b[39;49m\u001b[43mget_loc\u001b[49m\u001b[43m(\u001b[49m\u001b[43mcasted_key\u001b[49m\u001b[43m)\u001b[49m\n\u001b[1;32m   3653\u001b[0m \u001b[38;5;28;01mexcept\u001b[39;00m \u001b[38;5;167;01mKeyError\u001b[39;00m \u001b[38;5;28;01mas\u001b[39;00m err:\n",
      "File \u001b[0;32m~/anaconda3/envs/eneaFL/lib/python3.11/site-packages/pandas/_libs/index.pyx:147\u001b[0m, in \u001b[0;36mpandas._libs.index.IndexEngine.get_loc\u001b[0;34m()\u001b[0m\n",
      "File \u001b[0;32m~/anaconda3/envs/eneaFL/lib/python3.11/site-packages/pandas/_libs/index.pyx:176\u001b[0m, in \u001b[0;36mpandas._libs.index.IndexEngine.get_loc\u001b[0;34m()\u001b[0m\n",
      "File \u001b[0;32mpandas/_libs/hashtable_class_helper.pxi:7080\u001b[0m, in \u001b[0;36mpandas._libs.hashtable.PyObjectHashTable.get_item\u001b[0;34m()\u001b[0m\n",
      "File \u001b[0;32mpandas/_libs/hashtable_class_helper.pxi:7088\u001b[0m, in \u001b[0;36mpandas._libs.hashtable.PyObjectHashTable.get_item\u001b[0;34m()\u001b[0m\n",
      "\u001b[0;31mKeyError\u001b[0m: 'mlp_macs'",
      "\nThe above exception was the direct cause of the following exception:\n",
      "\u001b[0;31mKeyError\u001b[0m                                  Traceback (most recent call last)",
      "Cell \u001b[0;32mIn[17], line 7\u001b[0m\n\u001b[1;32m      4\u001b[0m df \u001b[38;5;241m=\u001b[39m pd\u001b[38;5;241m.\u001b[39mread_csv(\u001b[38;5;124mf\u001b[39m\u001b[38;5;124m\"\u001b[39m\u001b[38;5;124m./RC/\u001b[39m\u001b[38;5;132;01m{\u001b[39;00ms\u001b[38;5;132;01m}\u001b[39;00m\u001b[38;5;124m/mlp_aggregated_prediction_step1/\u001b[39m\u001b[38;5;132;01m{\u001b[39;00ml\u001b[38;5;132;01m}\u001b[39;00m\u001b[38;5;124m/\u001b[39m\u001b[38;5;132;01m{\u001b[39;00ms\u001b[38;5;132;01m}\u001b[39;00m\u001b[38;5;124m_prediction_results.csv\u001b[39m\u001b[38;5;124m\"\u001b[39m)\n\u001b[1;32m      6\u001b[0m \u001b[38;5;66;03m# get item\u001b[39;00m\n\u001b[0;32m----> 7\u001b[0m _macs_mlp \u001b[38;5;241m=\u001b[39m \u001b[43mdf\u001b[49m\u001b[43m[\u001b[49m\u001b[38;5;124;43m\"\u001b[39;49m\u001b[38;5;124;43mmlp_macs\u001b[39;49m\u001b[38;5;124;43m\"\u001b[39;49m\u001b[43m]\u001b[49m[\u001b[38;5;241m0\u001b[39m]\n\u001b[1;32m      8\u001b[0m _params_mlp \u001b[38;5;241m=\u001b[39m df[\u001b[38;5;124m\"\u001b[39m\u001b[38;5;124mn_model_parameters_mlp_readout\u001b[39m\u001b[38;5;124m\"\u001b[39m][\u001b[38;5;241m0\u001b[39m]\n\u001b[1;32m      9\u001b[0m _macs_ae \u001b[38;5;241m=\u001b[39m df[\u001b[38;5;124m\"\u001b[39m\u001b[38;5;124mcae_macs\u001b[39m\u001b[38;5;124m\"\u001b[39m][\u001b[38;5;241m0\u001b[39m]\n",
      "File \u001b[0;32m~/anaconda3/envs/eneaFL/lib/python3.11/site-packages/pandas/core/frame.py:3761\u001b[0m, in \u001b[0;36mDataFrame.__getitem__\u001b[0;34m(self, key)\u001b[0m\n\u001b[1;32m   3759\u001b[0m \u001b[38;5;28;01mif\u001b[39;00m \u001b[38;5;28mself\u001b[39m\u001b[38;5;241m.\u001b[39mcolumns\u001b[38;5;241m.\u001b[39mnlevels \u001b[38;5;241m>\u001b[39m \u001b[38;5;241m1\u001b[39m:\n\u001b[1;32m   3760\u001b[0m     \u001b[38;5;28;01mreturn\u001b[39;00m \u001b[38;5;28mself\u001b[39m\u001b[38;5;241m.\u001b[39m_getitem_multilevel(key)\n\u001b[0;32m-> 3761\u001b[0m indexer \u001b[38;5;241m=\u001b[39m \u001b[38;5;28;43mself\u001b[39;49m\u001b[38;5;241;43m.\u001b[39;49m\u001b[43mcolumns\u001b[49m\u001b[38;5;241;43m.\u001b[39;49m\u001b[43mget_loc\u001b[49m\u001b[43m(\u001b[49m\u001b[43mkey\u001b[49m\u001b[43m)\u001b[49m\n\u001b[1;32m   3762\u001b[0m \u001b[38;5;28;01mif\u001b[39;00m is_integer(indexer):\n\u001b[1;32m   3763\u001b[0m     indexer \u001b[38;5;241m=\u001b[39m [indexer]\n",
      "File \u001b[0;32m~/anaconda3/envs/eneaFL/lib/python3.11/site-packages/pandas/core/indexes/base.py:3654\u001b[0m, in \u001b[0;36mIndex.get_loc\u001b[0;34m(self, key)\u001b[0m\n\u001b[1;32m   3652\u001b[0m     \u001b[38;5;28;01mreturn\u001b[39;00m \u001b[38;5;28mself\u001b[39m\u001b[38;5;241m.\u001b[39m_engine\u001b[38;5;241m.\u001b[39mget_loc(casted_key)\n\u001b[1;32m   3653\u001b[0m \u001b[38;5;28;01mexcept\u001b[39;00m \u001b[38;5;167;01mKeyError\u001b[39;00m \u001b[38;5;28;01mas\u001b[39;00m err:\n\u001b[0;32m-> 3654\u001b[0m     \u001b[38;5;28;01mraise\u001b[39;00m \u001b[38;5;167;01mKeyError\u001b[39;00m(key) \u001b[38;5;28;01mfrom\u001b[39;00m \u001b[38;5;21;01merr\u001b[39;00m\n\u001b[1;32m   3655\u001b[0m \u001b[38;5;28;01mexcept\u001b[39;00m \u001b[38;5;167;01mTypeError\u001b[39;00m:\n\u001b[1;32m   3656\u001b[0m     \u001b[38;5;66;03m# If we have a listlike key, _check_indexing_error will raise\u001b[39;00m\n\u001b[1;32m   3657\u001b[0m     \u001b[38;5;66;03m#  InvalidIndexError. Otherwise we fall through and re-raise\u001b[39;00m\n\u001b[1;32m   3658\u001b[0m     \u001b[38;5;66;03m#  the TypeError.\u001b[39;00m\n\u001b[1;32m   3659\u001b[0m     \u001b[38;5;28mself\u001b[39m\u001b[38;5;241m.\u001b[39m_check_indexing_error(key)\n",
      "\u001b[0;31mKeyError\u001b[0m: 'mlp_macs'"
     ]
    }
   ],
   "source": [
    "for s in settings:\n",
    "    for l in layers:\n",
    "        # Read the CSV file\n",
    "        df = pd.read_csv(f\"./RC/{s}/mlp_aggregated_prediction_step1/{l}/{s}_prediction_results.csv\")\n",
    "\n",
    "        # get item\n",
    "        _macs_mlp = df[\"mlp_macs\"][0]\n",
    "        _params_mlp = df[\"n_model_parameters_mlp_readout\"][0]\n",
    "        _macs_ae = df[\"cae_macs\"][0]\n",
    "        _params_ae = df[\"n_model_parameters_cae\"][0]\n",
    "\n",
    "        # Append the values to the lists\n",
    "        macs_mlp.append(_macs_mlp)\n",
    "        macs_ae.append(_macs_ae)\n",
    "        params_mlp.append(_params_mlp)\n",
    "        params_ae.append(_params_ae)"
   ]
  },
  {
   "cell_type": "code",
   "execution_count": null,
   "id": "73a7aee8",
   "metadata": {},
   "outputs": [
    {
     "data": {
      "text/plain": [
       "[34080, 5280, 2400, 5280, 34080, 5280, 2400, 5280]"
      ]
     },
     "execution_count": 48,
     "metadata": {},
     "output_type": "execute_result"
    }
   ],
   "source": [
    "macs_mlp "
   ]
  },
  {
   "cell_type": "code",
   "execution_count": null,
   "id": "f989460f",
   "metadata": {},
   "outputs": [
    {
     "name": "stdout",
     "output_type": "stream",
     "text": [
      "Average MACs mlp (std):  11760.0  ( 13833.425358271072 )\n",
      "Average Params mlp (std):  11857.0  ( 13833.425358271072 )\n",
      "Average MACs ae (std):  22368.0  ( 1403.421126085416 )\n",
      "Average Params ae (std):  22602.25  ( 1407.0758686012634 )\n"
     ]
    }
   ],
   "source": [
    "print(\"Average MACs mlp (std): \", sum(macs_mlp)/len(macs_mlp), \" (\", torch.std(torch.tensor(macs_mlp, dtype=float)).item(), \")\")\n",
    "print(\"Average Params mlp (std): \", sum(params_mlp)/len(params_mlp), \" (\", torch.std(torch.tensor(params_mlp, dtype=float)).item(), \")\")\n",
    "print(\"Average MACs ae (std): \", sum(macs_ae)/len(macs_ae), \" (\", torch.std(torch.tensor(macs_ae, dtype=float)).item(), \")\")\n",
    "print(\"Average Params ae (std): \", sum(params_ae)/len(params_ae), \" (\", torch.std(torch.tensor(params_ae, dtype=float)).item(), \")\")"
   ]
  }
 ],
 "metadata": {
  "kernelspec": {
   "display_name": "eneaFL",
   "language": "python",
   "name": "python3"
  },
  "language_info": {
   "codemirror_mode": {
    "name": "ipython",
    "version": 3
   },
   "file_extension": ".py",
   "mimetype": "text/x-python",
   "name": "python",
   "nbconvert_exporter": "python",
   "pygments_lexer": "ipython3",
   "version": "3.11.3"
  }
 },
 "nbformat": 4,
 "nbformat_minor": 5
}
