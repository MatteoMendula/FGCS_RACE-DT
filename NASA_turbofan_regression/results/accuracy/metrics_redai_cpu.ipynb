{
 "cells": [
  {
   "cell_type": "code",
   "execution_count": 4,
   "id": "20644143",
   "metadata": {},
   "outputs": [],
   "source": [
    "import pandas as pd\n",
    "import torch \n",
    "import torch.nn as nn"
   ]
  },
  {
   "cell_type": "code",
   "execution_count": 5,
   "id": "84c54fbb",
   "metadata": {},
   "outputs": [],
   "source": [
    "settings = [\n",
    "    \"FD001\",\n",
    "    \"FD002\",\n",
    "    \"FD003\",\n",
    "    \"FD004\",\n",
    "]\n",
    "\n",
    "avg_train_time = []\n",
    "avg_predict_time = []\n",
    "avg_r2 = []\n",
    "avg_rmse = []\n",
    "macs = []\n",
    "avg_params = []\n",
    "avg_flops = []"
   ]
  },
  {
   "cell_type": "code",
   "execution_count": 6,
   "id": "b064167c",
   "metadata": {},
   "outputs": [],
   "source": [
    "for s in settings:\n",
    "    # Read the CSV file\n",
    "    df = pd.read_csv(f\"./red_ai_cpu/lstm_pytorch_model_performance_{s}.csv\")\n",
    "\n",
    "    # get item\n",
    "    train_time = df[\"Train Time\"][0]\n",
    "    pred_time = df[\"Predict Time\"][0]\n",
    "    r2 = df[\"R2\"][0]\n",
    "    rmse = df[\"RMSE\"][0]\n",
    "    \n",
    "\n",
    "    # Append the values to the lists\n",
    "    avg_train_time.append(train_time)\n",
    "    avg_predict_time.append(pred_time)\n",
    "    avg_r2.append(r2)\n",
    "    avg_rmse.append(rmse)\n",
    "\n",
    "    # macs.append(df[\"MACs\"][0])\n",
    "    # avg_params.append(df[\"Params\"][0])"
   ]
  },
  {
   "cell_type": "code",
   "execution_count": 7,
   "id": "543f0b79",
   "metadata": {},
   "outputs": [
    {
     "data": {
      "text/html": [
       "<div>\n",
       "<style scoped>\n",
       "    .dataframe tbody tr th:only-of-type {\n",
       "        vertical-align: middle;\n",
       "    }\n",
       "\n",
       "    .dataframe tbody tr th {\n",
       "        vertical-align: top;\n",
       "    }\n",
       "\n",
       "    .dataframe thead th {\n",
       "        text-align: right;\n",
       "    }\n",
       "</style>\n",
       "<table border=\"1\" class=\"dataframe\">\n",
       "  <thead>\n",
       "    <tr style=\"text-align: right;\">\n",
       "      <th></th>\n",
       "      <th>R2</th>\n",
       "      <th>RMSE</th>\n",
       "      <th>Train Time</th>\n",
       "      <th>Predict Time</th>\n",
       "      <th>Total Time</th>\n",
       "      <th>startTrainTime</th>\n",
       "      <th>endTrainTime</th>\n",
       "      <th>startPredictTime</th>\n",
       "      <th>endPredictTime</th>\n",
       "    </tr>\n",
       "  </thead>\n",
       "  <tbody>\n",
       "    <tr>\n",
       "      <th>0</th>\n",
       "      <td>0.304432</td>\n",
       "      <td>45.47322</td>\n",
       "      <td>27.799513</td>\n",
       "      <td>0.005426</td>\n",
       "      <td>27.807056</td>\n",
       "      <td>1.747927e+09</td>\n",
       "      <td>1.747927e+09</td>\n",
       "      <td>1.747927e+09</td>\n",
       "      <td>1.747927e+09</td>\n",
       "    </tr>\n",
       "  </tbody>\n",
       "</table>\n",
       "</div>"
      ],
      "text/plain": [
       "         R2      RMSE  Train Time  Predict Time  Total Time  startTrainTime  \\\n",
       "0  0.304432  45.47322   27.799513      0.005426   27.807056    1.747927e+09   \n",
       "\n",
       "   endTrainTime  startPredictTime  endPredictTime  \n",
       "0  1.747927e+09      1.747927e+09    1.747927e+09  "
      ]
     },
     "execution_count": 7,
     "metadata": {},
     "output_type": "execute_result"
    }
   ],
   "source": [
    "df"
   ]
  },
  {
   "cell_type": "code",
   "execution_count": 8,
   "id": "4738e694",
   "metadata": {},
   "outputs": [
    {
     "name": "stdout",
     "output_type": "stream",
     "text": [
      "Average Train Time:  23.282525300979614 +- 6.564570186400129\n",
      "Average Predict Time:  0.00325667858123775 +- 0.0015310673308141214\n",
      "Average R2:  0.5973151013688147 +- 0.22526639369968207\n",
      "Average RMSE:  30.361148023716076 +- 12.844099939851583\n"
     ]
    }
   ],
   "source": [
    "# print avg and std\n",
    "print(\"Average Train Time: \", sum(avg_train_time) / len(avg_train_time), \"+-\", pd.Series(avg_train_time).std())\n",
    "print(\"Average Predict Time: \", sum(avg_predict_time) / len(avg_predict_time), \"+-\", pd.Series(avg_predict_time).std())\n",
    "print(\"Average R2: \", sum(avg_r2) / len(avg_r2), \"+-\", pd.Series(avg_r2).std())\n",
    "print(\"Average RMSE: \", sum(avg_rmse) / len(avg_rmse), \"+-\", pd.Series(avg_rmse).std())\n"
   ]
  }
 ],
 "metadata": {
  "kernelspec": {
   "display_name": "eneaFL",
   "language": "python",
   "name": "python3"
  },
  "language_info": {
   "codemirror_mode": {
    "name": "ipython",
    "version": 3
   },
   "file_extension": ".py",
   "mimetype": "text/x-python",
   "name": "python",
   "nbconvert_exporter": "python",
   "pygments_lexer": "ipython3",
   "version": "3.11.3"
  }
 },
 "nbformat": 4,
 "nbformat_minor": 5
}
