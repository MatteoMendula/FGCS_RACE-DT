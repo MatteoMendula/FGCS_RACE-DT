{
 "cells": [
  {
   "cell_type": "code",
   "execution_count": 46,
   "id": "20644143",
   "metadata": {},
   "outputs": [],
   "source": [
    "import pandas as pd\n",
    "import torch \n",
    "import torch.nn as nn"
   ]
  },
  {
   "cell_type": "code",
   "execution_count": 47,
   "id": "84c54fbb",
   "metadata": {},
   "outputs": [],
   "source": [
    "settings = [\n",
    "    \"FD001\",\n",
    "    \"FD002\",\n",
    "    \"FD003\",\n",
    "    \"FD004\",\n",
    "]\n",
    "\n",
    "avg_train_time = []\n",
    "avg_predict_time = []\n",
    "avg_r2 = []\n",
    "avg_rmse = []\n",
    "macs = []\n",
    "avg_params = []\n",
    "avg_flops = []"
   ]
  },
  {
   "cell_type": "code",
   "execution_count": 48,
   "id": "b064167c",
   "metadata": {},
   "outputs": [],
   "source": [
    "for s in settings:\n",
    "    # Read the CSV file\n",
    "    df = pd.read_csv(f\"lstm_pytorch_model_performance_{s}.csv\")\n",
    "\n",
    "    # get item\n",
    "    train_time = df[\"Train Time\"][0]\n",
    "    pred_time = df[\"Predict Time\"][0]\n",
    "    r2 = df[\"R2\"][0]\n",
    "    rmse = df[\"RMSE\"][0]\n",
    "    \n",
    "\n",
    "    # Append the values to the lists\n",
    "    avg_train_time.append(train_time)\n",
    "    avg_predict_time.append(pred_time)\n",
    "    avg_r2.append(r2)\n",
    "    avg_rmse.append(rmse)\n",
    "\n",
    "    # macs.append(df[\"MACs\"][0])\n",
    "    # avg_params.append(df[\"Params\"][0])"
   ]
  },
  {
   "cell_type": "code",
   "execution_count": 49,
   "id": "543f0b79",
   "metadata": {},
   "outputs": [
    {
     "data": {
      "text/html": [
       "<div>\n",
       "<style scoped>\n",
       "    .dataframe tbody tr th:only-of-type {\n",
       "        vertical-align: middle;\n",
       "    }\n",
       "\n",
       "    .dataframe tbody tr th {\n",
       "        vertical-align: top;\n",
       "    }\n",
       "\n",
       "    .dataframe thead th {\n",
       "        text-align: right;\n",
       "    }\n",
       "</style>\n",
       "<table border=\"1\" class=\"dataframe\">\n",
       "  <thead>\n",
       "    <tr style=\"text-align: right;\">\n",
       "      <th></th>\n",
       "      <th>R2</th>\n",
       "      <th>RMSE</th>\n",
       "      <th>Train Time</th>\n",
       "      <th>Predict Time</th>\n",
       "      <th>Total Time</th>\n",
       "    </tr>\n",
       "  </thead>\n",
       "  <tbody>\n",
       "    <tr>\n",
       "      <th>0</th>\n",
       "      <td>0.270948</td>\n",
       "      <td>46.55488</td>\n",
       "      <td>14.662263</td>\n",
       "      <td>0.003549</td>\n",
       "      <td>14.671389</td>\n",
       "    </tr>\n",
       "  </tbody>\n",
       "</table>\n",
       "</div>"
      ],
      "text/plain": [
       "         R2      RMSE  Train Time  Predict Time  Total Time\n",
       "0  0.270948  46.55488   14.662263      0.003549   14.671389"
      ]
     },
     "execution_count": 49,
     "metadata": {},
     "output_type": "execute_result"
    }
   ],
   "source": [
    "df"
   ]
  },
  {
   "cell_type": "code",
   "execution_count": 50,
   "id": "4738e694",
   "metadata": {},
   "outputs": [
    {
     "name": "stdout",
     "output_type": "stream",
     "text": [
      "Average Train Time:  14.22216147184372 +- 4.406957228624019\n",
      "Average Predict Time:  0.004048347473144475 +- 0.002713256385959093\n",
      "Average R2:  0.5973183512687683 +- 0.24363879648504502\n",
      "Average RMSE:  30.292679254512088 +- 13.409384907314289\n"
     ]
    }
   ],
   "source": [
    "# print avg and std\n",
    "print(\"Average Train Time: \", sum(avg_train_time) / len(avg_train_time), \"+-\", pd.Series(avg_train_time).std())\n",
    "print(\"Average Predict Time: \", sum(avg_predict_time) / len(avg_predict_time), \"+-\", pd.Series(avg_predict_time).std())\n",
    "print(\"Average R2: \", sum(avg_r2) / len(avg_r2), \"+-\", pd.Series(avg_r2).std())\n",
    "print(\"Average RMSE: \", sum(avg_rmse) / len(avg_rmse), \"+-\", pd.Series(avg_rmse).std())\n"
   ]
  },
  {
   "cell_type": "code",
   "execution_count": 51,
   "id": "85d07052",
   "metadata": {},
   "outputs": [],
   "source": [
    "for s in settings:\n",
    "    # Read the CSV file\n",
    "    df = pd.read_csv(f\"lstm_pretrained_pytorch_model_performance_{s}.csv\")\n",
    "\n",
    "    # get item\n",
    "    macs.append(int(df[\"MACs\"][0].split(\"K\")[0].replace(\".\", \"\")))\n",
    "    avg_params.append(df[\"Trainable Params\"][0])"
   ]
  },
  {
   "cell_type": "code",
   "execution_count": 52,
   "id": "f989460f",
   "metadata": {},
   "outputs": [
    {
     "name": "stdout",
     "output_type": "stream",
     "text": [
      "Average MACs:  321344.0 +- 4042.31484836762\n",
      "Average Params:  317569.0 +- 4042.31484836762\n"
     ]
    }
   ],
   "source": [
    "print(\"Average MACs: \", sum(macs) / len(macs), \"+-\", pd.Series(macs).std())\n",
    "print(\"Average Params: \", sum(avg_params) / len(avg_params), \"+-\", pd.Series(avg_params).std())"
   ]
  }
 ],
 "metadata": {
  "kernelspec": {
   "display_name": "eneaFL",
   "language": "python",
   "name": "python3"
  },
  "language_info": {
   "codemirror_mode": {
    "name": "ipython",
    "version": 3
   },
   "file_extension": ".py",
   "mimetype": "text/x-python",
   "name": "python",
   "nbconvert_exporter": "python",
   "pygments_lexer": "ipython3",
   "version": "3.11.3"
  }
 },
 "nbformat": 4,
 "nbformat_minor": 5
}
