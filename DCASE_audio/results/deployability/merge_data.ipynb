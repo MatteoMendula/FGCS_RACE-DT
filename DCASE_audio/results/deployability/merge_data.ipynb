{
 "cells": [
  {
   "cell_type": "code",
   "execution_count": 10,
   "id": "1dcefe22",
   "metadata": {},
   "outputs": [],
   "source": [
    "import pandas as pd\n",
    "import numpy as np\n",
    "import os\n"
   ]
  },
  {
   "cell_type": "code",
   "execution_count": 11,
   "id": "c412c3e1",
   "metadata": {},
   "outputs": [],
   "source": [
    "source_folders = [\"./ecae_loading_hps/1_rc_layers\", \"./ecae_loading_hps/2_rc_layers\"]\n",
    "target_folders = [\"./ecae_loading_hps/bk_1_rc_layers\", \"./ecae_loading_hps/bk_2_rc_layers\"]\n",
    "\n"
   ]
  },
  {
   "cell_type": "code",
   "execution_count": 12,
   "id": "bd03d433",
   "metadata": {},
   "outputs": [
    {
     "name": "stdout",
     "output_type": "stream",
     "text": [
      "Processing ToyCar with model size: 23613 bytes\n",
      "Processing ToyDrone with model size: 23641 bytes\n",
      "Processing ToyNscale with model size: 23655 bytes\n",
      "Processing ToyTank with model size: 23627 bytes\n",
      "Processing ToyTrain with model size: 23641 bytes\n",
      "Processing Vacuum with model size: 23613 bytes\n",
      "Processing bandsaw with model size: 23627 bytes\n",
      "Processing bearing with model size: 23627 bytes\n",
      "Processing fan with model size: 23571 bytes\n",
      "Processing gearbox with model size: 23627 bytes\n",
      "Processing grinder with model size: 23627 bytes\n",
      "Processing shaker with model size: 23613 bytes\n",
      "Processing slider with model size: 23613 bytes\n",
      "Processing valve with model size: 23599 bytes\n",
      "Processing ToyCar with model size: 23613 bytes\n",
      "Processing ToyDrone with model size: 23641 bytes\n",
      "Processing ToyNscale with model size: 23655 bytes\n",
      "Processing ToyTank with model size: 23627 bytes\n",
      "Processing ToyTrain with model size: 23641 bytes\n",
      "Processing Vacuum with model size: 23613 bytes\n",
      "Processing bandsaw with model size: 23627 bytes\n",
      "Processing bearing with model size: 23627 bytes\n",
      "Processing fan with model size: 23571 bytes\n",
      "Processing gearbox with model size: 23627 bytes\n",
      "Processing grinder with model size: 23627 bytes\n",
      "Processing shaker with model size: 23613 bytes\n",
      "Processing slider with model size: 23613 bytes\n",
      "Processing valve with model size: 23599 bytes\n"
     ]
    }
   ],
   "source": [
    "# for each folder inside source_folders\n",
    "for source_folder, target_folder in zip(source_folders, target_folders):\n",
    "    # list folders in source_folder\n",
    "    for folder in sorted(os.listdir(source_folder)):\n",
    "        asset = folder.split(\"_\")[-1]\n",
    "        source_path = f\"{source_folder}/{folder}\"\n",
    "        target_path = f\"{target_folder}/{folder}\"\n",
    "        \n",
    "        csv_file_name = f\"{asset}_results_train_cae_mlp_load_rc_hps.csv\"\n",
    "        read_csv_path = f\"{source_path}/{csv_file_name}\"\n",
    "        source_df = pd.read_csv(read_csv_path)\n",
    "\n",
    "        cae_model_size = source_df['cae_model_size_bytes'].iloc[0]\n",
    "        print(f\"Processing {asset} with model size: {cae_model_size} bytes\")\n",
    "\n",
    "        target_csv_path = f\"{target_path}/{csv_file_name}\"\n",
    "        target_df = pd.read_csv(target_csv_path)\n",
    "\n",
    "        # insert cae_model_size_bytes as last column into target_df\n",
    "        target_df['cae_model_size_bytes'] = cae_model_size\n",
    "\n",
    "        # overwrite target_df with the new column\n",
    "        target_df.to_csv(target_csv_path, index=False)\n",
    "\n",
    "\n"
   ]
  }
 ],
 "metadata": {
  "kernelspec": {
   "display_name": "eneaFL",
   "language": "python",
   "name": "python3"
  },
  "language_info": {
   "codemirror_mode": {
    "name": "ipython",
    "version": 3
   },
   "file_extension": ".py",
   "mimetype": "text/x-python",
   "name": "python",
   "nbconvert_exporter": "python",
   "pygments_lexer": "ipython3",
   "version": "3.11.3"
  }
 },
 "nbformat": 4,
 "nbformat_minor": 5
}
