{
 "cells": [
  {
   "cell_type": "code",
   "execution_count": 1,
   "id": "5c171106",
   "metadata": {},
   "outputs": [],
   "source": [
    "import matplotlib.pyplot as plt\n",
    "import numpy as np\n",
    "import pandas as pd"
   ]
  },
  {
   "cell_type": "code",
   "execution_count": null,
   "id": "be126aae",
   "metadata": {},
   "outputs": [],
   "source": [
    "# DCASE \n",
    "lowest_accuracies_dcase = {\n",
    "    'redAI_mel': 0.4495,\n",
    "    'redAI_mfcc': 0.5060,\n",
    "    'ecae': 0.4715,\n",
    "    'racedt': 0.4945\n",
    "}\n",
    "\n",
    "train_time_dcase_seconds = {\n",
    "    'redAI_mel': 554.1615527016776,  \n",
    "    'redAI_mfcc': 538.5434127705438,  \n",
    "    'ecae': 50.814525093351094,        \n",
    "    'racedt': 23.82913257394518       \n",
    "}\n",
    "\n",
    "pred_time_dcase_seconds = {\n",
    "    'redAI_mel': 0.1617352621895926,  \n",
    "    'redAI_mfcc': 0.15532997676304405,  \n",
    "    'ecae': 0.2912928547177996,        \n",
    "    'racedt': 0.010318160057067835      \n",
    "}\n",
    "\n",
    "model_sizes_dcase_mb = {\n",
    "    'redAI': 0.463,  \n",
    "    'ecae': 0.000631,  \n",
    "    'racedt': 0.000573   \n",
    "}\n",
    "\n",
    "# NASA\n",
    "lowest_accuracies_nasa = {\n",
    "    'redAI': 0.290,\n",
    "    'ecae': 0.259,\n",
    "    'racedt': 0.302\n",
    "}\n",
    "\n",
    "train_time_dcase_seconds = {\n",
    "    'redAI': 110.59841638803482,  \n",
    "    'ecae': 66.86180967092514,        \n",
    "    'racedt': 23.82913257394518       \n",
    "}\n",
    "\n",
    "pred_time_dcase_seconds = {\n",
    "    'redAI': 0.0019086003303527832,  \n",
    "    'ecae': 0.038888752460479736,        \n",
    "    'racedt': 0.0005781650543212891      \n",
    "}\n",
    "\n",
    "\n",
    "model_sizes_dcase_mb = {\n",
    "    'redAI': 1.3,  \n",
    "    'ecae': 0.000194,  \n",
    "    'racedt': 0.000143  \n",
    "}\n",
    "\n",
    "data_link_speed_upload = 20\n",
    "data_link_speed_download = 100"
   ]
  }
 ],
 "metadata": {
  "kernelspec": {
   "display_name": "eneaFL",
   "language": "python",
   "name": "python3"
  },
  "language_info": {
   "codemirror_mode": {
    "name": "ipython",
    "version": 3
   },
   "file_extension": ".py",
   "mimetype": "text/x-python",
   "name": "python",
   "nbconvert_exporter": "python",
   "pygments_lexer": "ipython3",
   "version": "3.11.3"
  }
 },
 "nbformat": 4,
 "nbformat_minor": 5
}
